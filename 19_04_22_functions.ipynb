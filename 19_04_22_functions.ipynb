{
  "nbformat": 4,
  "nbformat_minor": 0,
  "metadata": {
    "colab": {
      "name": "19-04-22-functions.ipynb",
      "provenance": [],
      "collapsed_sections": [],
      "authorship_tag": "ABX9TyNf0wQBAl6+JYMl39cqgxw8",
      "include_colab_link": true
    },
    "kernelspec": {
      "name": "python3",
      "display_name": "Python 3"
    },
    "language_info": {
      "name": "python"
    }
  },
  "cells": [
    {
      "cell_type": "markdown",
      "metadata": {
        "id": "view-in-github",
        "colab_type": "text"
      },
      "source": [
        "<a href=\"https://colab.research.google.com/github/sudheer-9496/python-new/blob/module2/19_04_22_functions.ipynb\" target=\"_parent\"><img src=\"https://colab.research.google.com/assets/colab-badge.svg\" alt=\"Open In Colab\"/></a>"
      ]
    },
    {
      "cell_type": "code",
      "execution_count": null,
      "metadata": {
        "colab": {
          "base_uri": "https://localhost:8080/"
        },
        "id": "nUHTJG_mJcpE",
        "outputId": "93434822-5060-41fb-d424-9c25b64f4ec3"
      },
      "outputs": [
        {
          "output_type": "stream",
          "name": "stdout",
          "text": [
            "hello\n",
            "world\n"
          ]
        }
      ],
      "source": [
        "def SV():\n",
        " print(\"hello\")\n",
        " print(\"world\")\n",
        "SV()"
      ]
    },
    {
      "cell_type": "code",
      "source": [
        "def SV(fname):\n",
        "  print(fname + \" VARMA\")\n",
        "SV(\"SUDHEER\")\n",
        "SV(\"SUDHEER\")\n",
        "SV(\"SUDHEER\")"
      ],
      "metadata": {
        "colab": {
          "base_uri": "https://localhost:8080/"
        },
        "id": "PaRw5CkzNem9",
        "outputId": "1e6c383d-14ed-4510-a564-07ca81fca902"
      },
      "execution_count": null,
      "outputs": [
        {
          "output_type": "stream",
          "name": "stdout",
          "text": [
            "SUDHEER VARMA\n",
            "SUDHEER VARMA\n",
            "SUDHEER VARMA\n"
          ]
        }
      ]
    },
    {
      "cell_type": "code",
      "source": [
        "def vote(age,gender,name):\n",
        "   print(\"age=\",age,\"gender=\",gender,\"name=\",name)\n",
        "   if age>=18:\n",
        "     print(\"eligble\")\n",
        "   else:\n",
        "     print(\"not eligible\")\n",
        "vote(18,\"male\",\"sudheer\")"
      ],
      "metadata": {
        "colab": {
          "base_uri": "https://localhost:8080/"
        },
        "id": "EU-jzLy5OxUu",
        "outputId": "1174435a-28b9-4550-d0d0-3f80982c0367"
      },
      "execution_count": null,
      "outputs": [
        {
          "output_type": "stream",
          "name": "stdout",
          "text": [
            "age= 18 gender= male name= sudheer\n",
            "eligble\n"
          ]
        }
      ]
    },
    {
      "cell_type": "code",
      "source": [
        "def vote(age,gender,name):\n",
        "   print(\"age=\",age,\"gender=\",gender,\"name=\",name)\n",
        "   if age>=18:\n",
        "     print(\"eligble\")\n",
        "   else:\n",
        "     print(\"not eligible\")\n",
        "vote(age=int(input()),gender=input(),name=input())"
      ],
      "metadata": {
        "colab": {
          "base_uri": "https://localhost:8080/"
        },
        "id": "12GvXzWWVuv3",
        "outputId": "34c387c1-228e-4aba-cee7-ab2ab3b7f93e"
      },
      "execution_count": null,
      "outputs": [
        {
          "output_type": "stream",
          "name": "stdout",
          "text": [
            "18\n",
            "M\n",
            "sv\n",
            "age= 18 gender= M name= sv\n",
            "eligble\n"
          ]
        }
      ]
    },
    {
      "cell_type": "code",
      "source": [
        "def vote(age,gender,name):\n",
        "  print(\"age=\",age,\"gender=\",gender,\"name=\",name)\n",
        "  x=lambda age:age>18\n",
        "  print(\"Eligible\")\n",
        "  vote()"
      ],
      "metadata": {
        "id": "kXAb017gXUTw"
      },
      "execution_count": null,
      "outputs": []
    },
    {
      "cell_type": "code",
      "source": [
        "def my_function(food):\n",
        "  for x in food:\n",
        "    print(x)\n",
        "fruits = [\"apple\", \"banana\", \"cherry\"]\n",
        "my_function(fruits)"
      ],
      "metadata": {
        "colab": {
          "base_uri": "https://localhost:8080/"
        },
        "id": "oKTmXTxFNuAM",
        "outputId": "67761d91-e295-43cf-c68e-4917ff04cf6d"
      },
      "execution_count": null,
      "outputs": [
        {
          "output_type": "stream",
          "name": "stdout",
          "text": [
            "apple\n",
            "banana\n",
            "cherry\n"
          ]
        }
      ]
    },
    {
      "cell_type": "code",
      "source": [
        "#absolurte\n",
        "a=30.5\n",
        "b=abs(a)\n",
        "print(b)\n",
        "#pow\n",
        "a=12\n",
        "b=pow(a,2)\n",
        "print(b)"
      ],
      "metadata": {
        "colab": {
          "base_uri": "https://localhost:8080/"
        },
        "id": "zFAYoYnzaCvB",
        "outputId": "3616769f-eea4-446d-9a71-dc4ef27c997f"
      },
      "execution_count": null,
      "outputs": [
        {
          "output_type": "stream",
          "name": "stdout",
          "text": [
            "30.5\n",
            "144\n"
          ]
        }
      ]
    },
    {
      "cell_type": "code",
      "source": [
        ""
      ],
      "metadata": {
        "id": "dvZgDNfsa2Hg"
      },
      "execution_count": null,
      "outputs": []
    }
  ]
}