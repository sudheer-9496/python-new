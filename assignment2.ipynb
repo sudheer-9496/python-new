{
  "nbformat": 4,
  "nbformat_minor": 0,
  "metadata": {
    "colab": {
      "name": "assignment2.ipynb",
      "provenance": [],
      "collapsed_sections": [],
      "include_colab_link": true
    },
    "kernelspec": {
      "name": "python3",
      "display_name": "Python 3"
    },
    "language_info": {
      "name": "python"
    }
  },
  "cells": [
    {
      "cell_type": "markdown",
      "metadata": {
        "id": "view-in-github",
        "colab_type": "text"
      },
      "source": [
        "<a href=\"https://colab.research.google.com/github/sudheer-9496/python-new/blob/module2/assignment2.ipynb\" target=\"_parent\"><img src=\"https://colab.research.google.com/assets/colab-badge.svg\" alt=\"Open In Colab\"/></a>"
      ]
    },
    {
      "cell_type": "markdown",
      "source": [
        "###Program to print a specified list after removing the 0th, 4th and 5th elements.\n",
        "####Sample List : ['Red', 'Green', 'White', 'Black', 'Pink', 'Yellow']\n",
        "####Expected Output : ['Green', 'White', 'Black']"
      ],
      "metadata": {
        "id": "HARbV72Yu5lx"
      }
    },
    {
      "cell_type": "code",
      "source": [
        "list= ['Red', 'Green', 'White', 'Black', 'Pink', 'Yellow']\n",
        "list.pop(0)\n",
        "list.pop(4)   \n",
        "list.pop(3)\n",
        "print(list)"
      ],
      "metadata": {
        "colab": {
          "base_uri": "https://localhost:8080/"
        },
        "id": "Sa_O9LcctJjZ",
        "outputId": "f6c64c39-22ab-4b0e-f955-d27a09b838da"
      },
      "execution_count": null,
      "outputs": [
        {
          "output_type": "stream",
          "name": "stdout",
          "text": [
            "['Green', 'White', 'Black', 'Pink', 'Yellow']\n"
          ]
        }
      ]
    },
    {
      "cell_type": "markdown",
      "source": [
        "## Program to get the difference between the two lists.\n"
      ],
      "metadata": {
        "id": "LG0H2Ebpwobf"
      }
    },
    {
      "cell_type": "code",
      "source": [
        "l1 = [10, 15, 20, 25, 30, 35, 40]\n",
        "l2 = [25, 40, 35]\n",
        "l3 = Diff(li1, li2)\n",
        "print(l3)\n"
      ],
      "metadata": {
        "colab": {
          "base_uri": "https://localhost:8080/"
        },
        "id": "hssdtviKxiXA",
        "outputId": "24db4d73-7ada-4413-ed44-0ca1b258d423"
      },
      "execution_count": null,
      "outputs": [
        {
          "output_type": "stream",
          "name": "stdout",
          "text": [
            "[10, 15, 20, 30]\n"
          ]
        }
      ]
    },
    {
      "cell_type": "markdown",
      "source": [
        "## Program to find the second smallest number and second largest number in a list.\n"
      ],
      "metadata": {
        "id": "jt5AEcyqzp-I"
      }
    },
    {
      "cell_type": "code",
      "source": [
        "def find_len(list1):\n",
        "\tlength = len(list1)\n",
        "\tlist1.sort()\n",
        "\tprint(\"Second Largest element is:\", list1[length-2])\n",
        "\tprint(\"Second Smallest element is:\", list1[1])\n",
        "\n",
        "list1=[12, 45, 2, 41, 31, 10, 8, 6, 4]\n",
        "Largest = find_len(list1)\n"
      ],
      "metadata": {
        "colab": {
          "base_uri": "https://localhost:8080/"
        },
        "id": "Emo-XGv1zsJ8",
        "outputId": "0ff1f674-be86-4021-9461-4e98d4a81dc6"
      },
      "execution_count": null,
      "outputs": [
        {
          "output_type": "stream",
          "name": "stdout",
          "text": [
            "Second Largest element is: 41\n",
            "Second Smallest element is: 4\n"
          ]
        }
      ]
    },
    {
      "cell_type": "markdown",
      "source": [
        "####Given a list of numbers of list, write a Python program to create a list of tuples having first element as the number and second element as the square of the number."
      ],
      "metadata": {
        "id": "mKhKeOyUz5mL"
      }
    },
    {
      "cell_type": "code",
      "source": [
        "list1 = [1, 6, 9, 69]\n",
        "res = [(val, pow(val, 2)) for val in list1]\n",
        "print(res)\n"
      ],
      "metadata": {
        "colab": {
          "base_uri": "https://localhost:8080/"
        },
        "id": "iTAhm5d8zyET",
        "outputId": "bb884d5e-8ac1-45e8-e1b9-42a27b71a43a"
      },
      "execution_count": null,
      "outputs": [
        {
          "output_type": "stream",
          "name": "stdout",
          "text": [
            "[(1, 1), (6, 36), (9, 81), (69, 4761)]\n"
          ]
        }
      ]
    },
    {
      "cell_type": "markdown",
      "source": [
        "###Given list of tuples, remove all the tuples with length K.\n",
        "###Input : test_list = [(4, 5), (4, ), (8, 6, 7), (1, ), (3, 4, 6, 7)], K = 2\n",
        "###Output : [(4, ), (8, 6, 7), (1, ), (3, 4, 6, 7)]\n",
        "###Explanation : (4, 5) of len = 2 is removed."
      ],
      "metadata": {
        "id": "CEZsLQxL0jbr"
      }
    },
    {
      "cell_type": "code",
      "source": [
        "\n",
        "test_list = [(4, 5), (4, ), (8, 6, 7), (1, ), (3, 4, 6, 7)]\n",
        "\n",
        "print(\"The original list : \" + str(test_list))\n",
        "\n",
        "K = 2\n",
        "res = [ele for ele in test_list if len(ele) != K]\n",
        "\n",
        "print(\"Filtered list : \" + str(res))\n"
      ],
      "metadata": {
        "colab": {
          "base_uri": "https://localhost:8080/"
        },
        "id": "N2vM0Xfq0XNw",
        "outputId": "fb1cc735-224f-457c-c1e1-cfe49ea00aee"
      },
      "execution_count": null,
      "outputs": [
        {
          "output_type": "stream",
          "name": "stdout",
          "text": [
            "The original list : [(4, 5), (4,), (8, 6, 7), (1,), (3, 4, 6, 7)]\n",
            "Filtered list : [(4,), (8, 6, 7), (1,), (3, 4, 6, 7)]\n"
          ]
        }
      ]
    },
    {
      "cell_type": "markdown",
      "source": [
        "###Program to generate and print a dictionary that contains a number (between 1\n",
        "and n) in the form (x, x*x).\n",
        "Sample Input: (n=5) :\n",
        "Expected Output : {1: 1, 2: 4, 3: 9, 4: 16, 5: 25}"
      ],
      "metadata": {
        "id": "1eF7cpIL2hIY"
      }
    },
    {
      "cell_type": "code",
      "source": [
        "n=int(input(\"Enter a number \"))\n",
        "d = dict()\n",
        "for x in range(1,n+1):\n",
        "    d[x]=x*x\n",
        "print(d) \n"
      ],
      "metadata": {
        "colab": {
          "base_uri": "https://localhost:8080/"
        },
        "id": "1bEr19cg1Az0",
        "outputId": "2e5c5316-ee9f-4833-d147-d13ed73d0f80"
      },
      "execution_count": null,
      "outputs": [
        {
          "output_type": "stream",
          "name": "stdout",
          "text": [
            "Enter a number 5\n",
            "{1: 1, 2: 4, 3: 9, 4: 16, 5: 25}\n"
          ]
        }
      ]
    },
    {
      "cell_type": "markdown",
      "source": [
        "#### Program to remove a key from a dictionary\n"
      ],
      "metadata": {
        "id": "NJagbfqJ3HPg"
      }
    },
    {
      "cell_type": "code",
      "source": [
        "diction = {'a':1,'b':2,'c':3,'d':4}\n",
        "print(diction)\n",
        "if 'a' in diction: \n",
        "    del diction['d']\n",
        "print(diction)"
      ],
      "metadata": {
        "colab": {
          "base_uri": "https://localhost:8080/"
        },
        "id": "B6BE8U8m2wEc",
        "outputId": "316bbe80-7c8e-433e-c36f-874b3e865fec"
      },
      "execution_count": null,
      "outputs": [
        {
          "output_type": "stream",
          "name": "stdout",
          "text": [
            "{'a': 1, 'b': 2, 'c': 3, 'd': 4}\n",
            "{'a': 1, 'b': 2, 'c': 3}\n"
          ]
        }
      ]
    },
    {
      "cell_type": "markdown",
      "source": [
        "Program to perform operations on string using unicodes ,splitting of string,accessing\n",
        "elements of string using locations"
      ],
      "metadata": {
        "id": "Q8SJAUf734qG"
      }
    },
    {
      "cell_type": "markdown",
      "source": [
        "######Program for Counting occurrence of a certain element in a string, getting indexes that have matching elements\n"
      ],
      "metadata": {
        "id": "tD0m5wXv6Hrb"
      }
    },
    {
      "cell_type": "code",
      "source": [
        "\n",
        "test_str = \"Violence, Violence, Violence!!!\"\n",
        "\n",
        "count = 0\n",
        "\n",
        "for i in test_str:\n",
        "\tif i == 'e':\n",
        "\t\tcount = count + 1\n",
        "\n",
        "print (\"Count of e in Violence, Violence, Violence!!! is : \"\n",
        "\t\t\t\t\t\t\t+ str(count))\n"
      ],
      "metadata": {
        "colab": {
          "base_uri": "https://localhost:8080/"
        },
        "id": "KxbjHgpW3fSV",
        "outputId": "760fadf4-59f6-428a-bf56-88fff91958b8"
      },
      "execution_count": null,
      "outputs": [
        {
          "output_type": "stream",
          "name": "stdout",
          "text": [
            "Count of e in Violence, Violence, Violence!!! is : 6\n"
          ]
        }
      ]
    },
    {
      "cell_type": "markdown",
      "source": [
        "####Program for replacing one substring by another"
      ],
      "metadata": {
        "id": "9ObCiiI98zim"
      }
    },
    {
      "cell_type": "code",
      "source": [
        "string = \"Violence, Violence, Violence!!!, I dont like, I avoidddd....\"\n",
        "print(string.replace(\"....\", \" ,but Violence likes me, I cant avoidddd\"))\n",
        "print(string.replace(\"....\", \"but Violence likes me, I cant avoidddd\", 1))\n"
      ],
      "metadata": {
        "colab": {
          "base_uri": "https://localhost:8080/"
        },
        "id": "qMTHD1gS8kTg",
        "outputId": "4b142709-1ea5-46c9-f21d-7ca3302ff01e"
      },
      "execution_count": null,
      "outputs": [
        {
          "output_type": "stream",
          "name": "stdout",
          "text": [
            "Violence, Violence, Violence!!!, I dont like, I avoidddd ,but Violence likes me, I cant avoidddd\n",
            "Violence, Violence, Violence!!!, I dont like, I avoiddddbut Violence likes me, I cant avoidddd\n"
          ]
        }
      ]
    }
  ]
}