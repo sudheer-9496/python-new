{
  "nbformat": 4,
  "nbformat_minor": 0,
  "metadata": {
    "colab": {
      "name": "LIST23-03-22.ipynb",
      "provenance": [],
      "authorship_tag": "ABX9TyM1SEA05EiFmuymhU5y5AJF",
      "include_colab_link": true
    },
    "kernelspec": {
      "name": "python3",
      "display_name": "Python 3"
    },
    "language_info": {
      "name": "python"
    }
  },
  "cells": [
    {
      "cell_type": "markdown",
      "metadata": {
        "id": "view-in-github",
        "colab_type": "text"
      },
      "source": [
        "<a href=\"https://colab.research.google.com/github/sudheer-9496/python-new/blob/module1/LIST23_03_22.ipynb\" target=\"_parent\"><img src=\"https://colab.research.google.com/assets/colab-badge.svg\" alt=\"Open In Colab\"/></a>"
      ]
    },
    {
      "cell_type": "code",
      "execution_count": null,
      "metadata": {
        "colab": {
          "base_uri": "https://localhost:8080/"
        },
        "id": "s3l8F3Wc4LCU",
        "outputId": "ab559b84-ed31-4593-fffa-ea6ddf73a09d"
      },
      "outputs": [
        {
          "output_type": "stream",
          "name": "stdout",
          "text": [
            "['MANGO', 'APPLE', 'ORANGE', 'PAPPAYA']\n",
            "PAPPAYA\n",
            "STRAWBERRY\n",
            "['PAPPAYA', 'STRAWBERRY']\n",
            "['MANGO', 'APPLE', 'ORANGE', 'PAPPAYA', 'STRAWBERRY', 'blueberry']\n",
            "['MANGO', 'APPLE', 'ORANGE', 'blackberry', 'PAPPAYA', 'STRAWBERRY', 'blueberry']\n",
            "['blueberry', 'STRAWBERRY', 'PAPPAYA', 'blackberry', 'ORANGE', 'APPLE', 'MANGO']\n",
            "['APPLE', 'MANGO', 'ORANGE', 'PAPPAYA', 'STRAWBERRY', 'blackberry', 'blueberry']\n",
            "['APPLE', 'MANGO', 'ORANGE', 'STRAWBERRY', 'blackberry', 'blueberry']\n",
            "['APPLE', 'MANGO', 'ORANGE', 'STRAWBERRY', 'blackberry', 'blueberry']\n",
            "[]\n"
          ]
        }
      ],
      "source": [
        "fruit=['MANGO','APPLE','ORANGE','PAPPAYA','STRAWBERRY']\n",
        "fruit[0:4]\n",
        "print(fruit[0:4])\n",
        "fruit[3]\n",
        "print(fruit[3])\n",
        "fruit[-1]\n",
        "print(fruit[-1])\n",
        "fruit[3:]\n",
        "print(fruit[3:])\n",
        "fruit.append('blueberry')\n",
        "print(fruit)\n",
        "fruit.insert(3,'blackberry')\n",
        "print(fruit)\n",
        "fruit.reverse()\n",
        "print(fruit)\n",
        "fruit.sort()\n",
        "print(fruit)\n",
        "fruit.pop(3)\n",
        "print(fruit)\n",
        "a=fruit.copy()\n",
        "print(a)\n",
        "a.clear()\n",
        "print(a)\n",
        "\n",
        "\n",
        "\n",
        "\n"
      ]
    },
    {
      "cell_type": "markdown",
      "source": [
        ""
      ],
      "metadata": {
        "id": "pU5dA8ZuHn1K"
      }
    },
    {
      "cell_type": "code",
      "source": [
        "a=[20,30,68]\n",
        "print(a[2])\n",
        "print(a[0]+a[2])"
      ],
      "metadata": {
        "colab": {
          "base_uri": "https://localhost:8080/"
        },
        "id": "Q5Hlke647bnj",
        "outputId": "0bae7d1f-b461-4977-dd22-5d3886e71983"
      },
      "execution_count": null,
      "outputs": [
        {
          "output_type": "stream",
          "name": "stdout",
          "text": [
            "68\n",
            "88\n"
          ]
        }
      ]
    },
    {
      "cell_type": "code",
      "source": [
        "## append and extend\n",
        "odd = [1, 3, 5,9,6]\n",
        "print(odd)\n",
        "## inserting \n",
        "odd.append(34)\n",
        "odd.insert(2,3)\n",
        "odd.extend([9, 11, 13])\n",
        "print(odd)\n"
      ],
      "metadata": {
        "colab": {
          "base_uri": "https://localhost:8080/"
        },
        "id": "zOGriFIw-g8h",
        "outputId": "50bbbaab-85ce-473d-e990-6ca96dc8f020"
      },
      "execution_count": null,
      "outputs": [
        {
          "output_type": "stream",
          "name": "stdout",
          "text": [
            "[1, 3, 5, 9, 6]\n",
            "[1, 3, 3, 5, 9, 6, 34, 9, 11, 13]\n"
          ]
        }
      ]
    },
    {
      "cell_type": "code",
      "source": [
        "for i in range(1,5) :\n",
        " print(i)\n",
        "for i in range(1,90,6) :\n",
        "  print(i)"
      ],
      "metadata": {
        "colab": {
          "base_uri": "https://localhost:8080/"
        },
        "id": "jaJHev4u-0AV",
        "outputId": "ffcdff06-ae7d-4923-b56c-374088ebfc6b"
      },
      "execution_count": null,
      "outputs": [
        {
          "output_type": "stream",
          "name": "stdout",
          "text": [
            "1\n",
            "2\n",
            "3\n",
            "4\n",
            "1\n",
            "7\n",
            "13\n",
            "19\n",
            "25\n",
            "31\n",
            "37\n",
            "43\n",
            "49\n",
            "55\n",
            "61\n",
            "67\n",
            "73\n",
            "79\n",
            "85\n"
          ]
        }
      ]
    },
    {
      "cell_type": "code",
      "source": [
        ""
      ],
      "metadata": {
        "id": "QYNQUDtXD3af"
      },
      "execution_count": null,
      "outputs": []
    }
  ]
}