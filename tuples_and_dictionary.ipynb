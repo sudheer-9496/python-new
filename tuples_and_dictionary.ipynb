{
  "nbformat": 4,
  "nbformat_minor": 0,
  "metadata": {
    "colab": {
      "name": "tuples and dictionary.ipynb",
      "provenance": [],
      "authorship_tag": "ABX9TyOCXm3DCP0z7hpGjhkhjrGx",
      "include_colab_link": true
    },
    "kernelspec": {
      "name": "python3",
      "display_name": "Python 3"
    },
    "language_info": {
      "name": "python"
    }
  },
  "cells": [
    {
      "cell_type": "markdown",
      "metadata": {
        "id": "view-in-github",
        "colab_type": "text"
      },
      "source": [
        "<a href=\"https://colab.research.google.com/github/sudheer-9496/python-new/blob/module1/tuples_and_dictionary.ipynb\" target=\"_parent\"><img src=\"https://colab.research.google.com/assets/colab-badge.svg\" alt=\"Open In Colab\"/></a>"
      ]
    },
    {
      "cell_type": "markdown",
      "source": [
        "tuples"
      ],
      "metadata": {
        "id": "aM0FJE9-Wby0"
      }
    },
    {
      "cell_type": "code",
      "execution_count": null,
      "metadata": {
        "id": "B1YYZQszTRjD",
        "colab": {
          "base_uri": "https://localhost:8080/"
        },
        "outputId": "ad726c90-544a-459e-da77-aaef4dc58e5b"
      },
      "outputs": [
        {
          "output_type": "stream",
          "name": "stdout",
          "text": [
            "('apple', 'kiwi', 'cherry')\n",
            "('apple', 'banana', 'cherry', 'orange')\n",
            "('banana', 'cherry')\n",
            "apple\n",
            "banana\n",
            "cherry\n"
          ]
        }
      ],
      "source": [
        "x = (\"apple\", \"banana\", \"cherry\")\n",
        "y = list(x)\n",
        "y[1] = \"kiwi\"\n",
        "x = tuple(y)\n",
        "print(x)\n",
        "thistuple = (\"apple\", \"banana\", \"cherry\")\n",
        "y = list(thistuple)\n",
        "y.append(\"orange\")\n",
        "thistuple = tuple(y)\n",
        "print(thistuple)\n",
        "thistuple = (\"apple\", \"banana\", \"cherry\")\n",
        "y = list(thistuple)\n",
        "y.remove(\"apple\")\n",
        "thistuple = tuple(y)\n",
        "print(thistuple)\n",
        "\n",
        "thistuple = (\"apple\", \"banana\", \"cherry\")\n",
        "i = 0\n",
        "while i < len(thistuple):\n",
        "  print(thistuple[i])\n",
        "  i = i + 1"
      ]
    },
    {
      "cell_type": "markdown",
      "source": [
        "SETS"
      ],
      "metadata": {
        "id": "xuCf9LbJaMTf"
      }
    },
    {
      "cell_type": "code",
      "source": [
        "thisset = {\"apple\", \"banana\", \"cherry\", \"apple\"}\n",
        "\n",
        "print(thisset)\n",
        "print(len(thisset))\n",
        "\n",
        "for x in thisset:\n",
        "  print(x)\n",
        "\n",
        "thisset.add(\"orange\")\n",
        "print(thisset)\n",
        "\n",
        "tropical = {\"pineapple\", \"mango\", \"papaya\"}\n",
        "thisset.update(tropical)\n",
        "print(thisset)\n",
        "\n",
        "mylist = [\"kiwi\", \"orange\"]\n",
        "thisset.update(mylist)\n",
        "print(thisset)\n",
        "\n",
        "\n",
        "x = thisset.pop()\n",
        "print(thisset)\n",
        "\n",
        "thisset.clear()\n",
        "print(thisset)\n",
        "\n",
        "set1 = {\"a\", \"b\" , \"c\"}\n",
        "set2 = {1, 2, 3}\n",
        "set3 = set1.union(set2)\n",
        "print(set3)\n",
        "\n",
        "x = {\"apple\", \"banana\", \"cherry\"}\n",
        "y = {\"google\", \"microsoft\", \"apple\"}\n",
        "\n",
        "z = x.symmetric_difference(y)\n",
        "print(z)\n",
        "\n",
        "x.intersection_update(y) ##The intersection_update() method will keep only the items that are present in both sets.\n",
        "print(x)\n",
        "\n",
        "z = x.intersection(y)\n",
        "print(z)\n",
        "\n",
        "x.symmetric_difference_update(y) ##The symmetric_difference_update() method will keep only the elements that are NOT present in both sets.\n",
        "print(x)\n",
        "\n",
        "x = {\"apple\", \"banana\", \"cherry\"}\n",
        "y = {\"google\", \"microsoft\", \"facebook\"}\n",
        "z = x.isdisjoint(y) ##Return True if no items in set x is present in set y:\n",
        "print(z)\n",
        "\n",
        "x = {\"f\", \"e\", \"d\", \"c\", \"b\", \"a\"}\n",
        "y = {\"a\", \"b\", \"c\"}\n",
        "z = x.issuperset(y)\n",
        "print(z)\n",
        "\n",
        "x = {\"apple\", \"banana\", \"cherry\"}\n",
        "y = {\"google\", \"microsoft\", \"apple\"}\n",
        "z = x.union(y)\n",
        "print(z)"
      ],
      "metadata": {
        "colab": {
          "base_uri": "https://localhost:8080/"
        },
        "id": "919tjq5oaN-s",
        "outputId": "62e40a79-40c1-4743-e5ef-ad8782737869"
      },
      "execution_count": null,
      "outputs": [
        {
          "output_type": "stream",
          "name": "stdout",
          "text": [
            "{'banana', 'apple', 'cherry'}\n",
            "3\n",
            "banana\n",
            "apple\n",
            "cherry\n",
            "{'banana', 'apple', 'orange', 'cherry'}\n",
            "{'papaya', 'pineapple', 'banana', 'apple', 'orange', 'mango', 'cherry'}\n",
            "{'papaya', 'kiwi', 'pineapple', 'banana', 'apple', 'orange', 'mango', 'cherry'}\n",
            "{'kiwi', 'pineapple', 'banana', 'apple', 'orange', 'mango', 'cherry'}\n",
            "set()\n",
            "{1, 2, 3, 'b', 'c', 'a'}\n",
            "{'banana', 'cherry', 'microsoft', 'google'}\n",
            "{'apple'}\n",
            "{'apple'}\n",
            "{'microsoft', 'google'}\n",
            "True\n",
            "True\n",
            "{'microsoft', 'google', 'banana', 'apple', 'cherry'}\n"
          ]
        }
      ]
    },
    {
      "cell_type": "markdown",
      "source": [
        "Dictionary"
      ],
      "metadata": {
        "id": "67LdwyHng_Gt"
      }
    },
    {
      "cell_type": "code",
      "source": [
        "a = {\n",
        "  \"brand\": \"Ford\",\n",
        "  \"model\": \"Mustang\",\n",
        "  \"year\": 1964\n",
        "}\n",
        "print(a)"
      ],
      "metadata": {
        "colab": {
          "base_uri": "https://localhost:8080/"
        },
        "id": "YoQH-bXUhHXs",
        "outputId": "77486de3-ad71-48a1-e575-a983d25b2094"
      },
      "execution_count": null,
      "outputs": [
        {
          "output_type": "stream",
          "name": "stdout",
          "text": [
            "{'brand': 'Ford', 'model': 'Mustang', 'year': 1964}\n"
          ]
        }
      ]
    },
    {
      "cell_type": "code",
      "source": [
        "## placement\n",
        "data ={\n",
        "    \"name\":\"sudheer\",\n",
        "    \"age\":\"18\",\n",
        "    \"course\":\"cse-ai&ml\",\n",
        "    \"cgpa\" : \"9.8\",\n",
        "    \"attendence\":\"99\",\n",
        "}\n",
        "print(data)\n",
        "print(data[\"cgpa\"])\n",
        "\n",
        "## Duplicate values will overwrite existing values:\n",
        "\n",
        "thisdict = {\n",
        "  \"brand\": \"Ford\",\n",
        "  \"model\": \"Mustang\",\n",
        "  \"year\": 1964,\n",
        "  \"year\": 2020\n",
        "}\n",
        "print(thisdict)\n",
        "print(len(thisdict))\n",
        "x = thisdict[\"model\"]\n",
        "print(x)\n",
        "x = thisdict.get(\"model\")\n",
        "print(x)\n",
        "\n",
        "car = {\n",
        "\"brand\": \"Ford\",\n",
        "\"model\": \"Mustang\",\n",
        "\"year\": 1964\n",
        "}\n",
        "x = car.keys()\n",
        "print(x) #before the change\n",
        "car[\"color\"] = \"white\"\n",
        "print(x) #after the change"
      ],
      "metadata": {
        "colab": {
          "base_uri": "https://localhost:8080/"
        },
        "id": "joTY5PMzhTUh",
        "outputId": "b89118c1-be93-49f8-a3fe-8bdab4828eda"
      },
      "execution_count": null,
      "outputs": [
        {
          "output_type": "stream",
          "name": "stdout",
          "text": [
            "{'name': 'sudheer', 'age': '18', 'course': 'cse-ai&ml', 'cgpa': '9.8', 'attendence': '99'}\n",
            "9.8\n",
            "{'brand': 'Ford', 'model': 'Mustang', 'year': 2020}\n",
            "3\n",
            "Mustang\n",
            "Mustang\n",
            "dict_keys(['brand', 'model', 'year'])\n",
            "dict_keys(['brand', 'model', 'year', 'color'])\n"
          ]
        }
      ]
    },
    {
      "cell_type": "code",
      "source": [
        ""
      ],
      "metadata": {
        "id": "fncG9ziniKpC"
      },
      "execution_count": null,
      "outputs": []
    }
  ]
}