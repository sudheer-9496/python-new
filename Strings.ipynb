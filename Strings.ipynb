{
  "nbformat": 4,
  "nbformat_minor": 0,
  "metadata": {
    "colab": {
      "name": "Strings.ipynb",
      "provenance": [],
      "authorship_tag": "ABX9TyO45wNVfgYCJ0YWThdhE3xc",
      "include_colab_link": true
    },
    "kernelspec": {
      "name": "python3",
      "display_name": "Python 3"
    },
    "language_info": {
      "name": "python"
    }
  },
  "cells": [
    {
      "cell_type": "markdown",
      "metadata": {
        "id": "view-in-github",
        "colab_type": "text"
      },
      "source": [
        "<a href=\"https://colab.research.google.com/github/sudheer-9496/python-new/blob/module1/Strings.ipynb\" target=\"_parent\"><img src=\"https://colab.research.google.com/assets/colab-badge.svg\" alt=\"Open In Colab\"/></a>"
      ]
    },
    {
      "cell_type": "code",
      "execution_count": null,
      "metadata": {
        "colab": {
          "base_uri": "https://localhost:8080/"
        },
        "id": "GCAq8xvF_UQu",
        "outputId": "b4395578-883b-44b5-a884-42717c621e60"
      },
      "outputs": [
        {
          "output_type": "stream",
          "name": "stdout",
          "text": [
            "hello this is sudheer\n",
            "21\n"
          ]
        }
      ],
      "source": [
        "## STRINGS\n",
        "a=\"hello this is sudheer\"\n",
        "print(a)\n",
        "print(len(a))"
      ]
    },
    {
      "cell_type": "markdown",
      "source": [
        "check the string"
      ],
      "metadata": {
        "id": "AAtJVcJlAE03"
      }
    },
    {
      "cell_type": "code",
      "source": [
        "## STRINGS\n",
        "a=\"hello this is sudheer\"\n",
        "print(a)\n",
        "print(len(a))\n",
        "print(\"this\" in a)\n",
        "print(\"z\" in a)"
      ],
      "metadata": {
        "colab": {
          "base_uri": "https://localhost:8080/"
        },
        "id": "xVsLRJ28AJAk",
        "outputId": "5a91f89b-244d-4950-ea8b-dc1ba1a97e3f"
      },
      "execution_count": null,
      "outputs": [
        {
          "output_type": "stream",
          "name": "stdout",
          "text": [
            "hello this is sudheer\n",
            "21\n",
            "True\n",
            "False\n"
          ]
        }
      ]
    },
    {
      "cell_type": "markdown",
      "source": [
        "## if not"
      ],
      "metadata": {
        "id": "dZEiJpxsBbsm"
      }
    },
    {
      "cell_type": "code",
      "source": [
        "## STRINGS\n",
        "a=\"hello this is sudheer\"\n",
        "print(a)\n",
        "print(len(a))\n",
        "print(\"we\" not in a)\n",
        "print(\"this\" not in a)"
      ],
      "metadata": {
        "colab": {
          "base_uri": "https://localhost:8080/"
        },
        "id": "oK4cHJb6Bcac",
        "outputId": "cad95733-4de1-4ab9-d538-6c9956ec623b"
      },
      "execution_count": null,
      "outputs": [
        {
          "output_type": "stream",
          "name": "stdout",
          "text": [
            "hello this is sudheer\n",
            "21\n",
            "True\n",
            "False\n"
          ]
        }
      ]
    },
    {
      "cell_type": "code",
      "source": [
        "##\n",
        "a=\"hello this is sudheer\"\n",
        "print(a)\n",
        "print(len(a))\n",
        "print(\"this\" in a,\"WCEGF\" in a)\n",
        "print(\"this\" in a,\"sudheer\" in a)"
      ],
      "metadata": {
        "colab": {
          "base_uri": "https://localhost:8080/"
        },
        "id": "-JpWbz-9CGZV",
        "outputId": "b10676c4-bf18-4682-82ba-5842a758ca58"
      },
      "execution_count": null,
      "outputs": [
        {
          "output_type": "stream",
          "name": "stdout",
          "text": [
            "hello this is sudheer\n",
            "21\n",
            "True False\n",
            "True True\n"
          ]
        }
      ]
    },
    {
      "cell_type": "code",
      "source": [
        "[ ] ## slicing of a string\n",
        "a=\"I went to RRR movie\"\n",
        "print(a[2:5],a[5:19])"
      ],
      "metadata": {
        "colab": {
          "base_uri": "https://localhost:8080/"
        },
        "id": "gjwwySfHC9Iu",
        "outputId": "5316f745-c3ff-496b-bb32-c6166c5e8bd7"
      },
      "execution_count": null,
      "outputs": [
        {
          "output_type": "stream",
          "name": "stdout",
          "text": [
            "wen t to RRR movie\n"
          ]
        }
      ]
    },
    {
      "cell_type": "code",
      "source": [
        "[ ] ## Modifying a string\n",
        "a=\"I went to RRR movie\"\n",
        "print(a.upper())\n",
        "print(a.lower())"
      ],
      "metadata": {
        "colab": {
          "base_uri": "https://localhost:8080/"
        },
        "id": "ZSDqoMEPDwOl",
        "outputId": "d397a39e-9fe8-42a7-ce0b-5aeb075f1203"
      },
      "execution_count": null,
      "outputs": [
        {
          "output_type": "stream",
          "name": "stdout",
          "text": [
            "I WENT TO RRR MOVIE\n",
            "i went to rrr movie\n"
          ]
        }
      ]
    },
    {
      "cell_type": "code",
      "source": [
        "## replacing\n",
        "a=\"I went to RRR movie\"\n",
        "print(a.replace(\"R\",\"ram\"))"
      ],
      "metadata": {
        "colab": {
          "base_uri": "https://localhost:8080/"
        },
        "id": "n8udop_4I938",
        "outputId": "06223dc2-512b-45e2-cd5a-5e474e5d2228"
      },
      "execution_count": null,
      "outputs": [
        {
          "output_type": "stream",
          "name": "stdout",
          "text": [
            "I went to ramramram movie\n"
          ]
        }
      ]
    },
    {
      "cell_type": "code",
      "source": [
        "a=\"            I went to RRR movie       \"\n",
        "print(a)\n",
        "print(a.strip())"
      ],
      "metadata": {
        "colab": {
          "base_uri": "https://localhost:8080/"
        },
        "id": "S9dSAcQgG33e",
        "outputId": "ed7a4e62-d1f6-4e8e-8055-909b6f0112f9"
      },
      "execution_count": null,
      "outputs": [
        {
          "output_type": "stream",
          "name": "stdout",
          "text": [
            "            I went to RRR movie       \n",
            "I went to RRR movie\n"
          ]
        }
      ]
    },
    {
      "cell_type": "markdown",
      "source": [
        "## string concatenatinon or adding two strings"
      ],
      "metadata": {
        "id": "uLWI6YKOKW6l"
      }
    },
    {
      "cell_type": "code",
      "source": [
        "a=\"I went to RRR movie\"\n",
        "b=\" and rrr\"\n",
        "print(a+b)"
      ],
      "metadata": {
        "colab": {
          "base_uri": "https://localhost:8080/"
        },
        "id": "jGzdOUkQKlly",
        "outputId": "121df44a-3cd6-4991-9153-37f980c21f5c"
      },
      "execution_count": null,
      "outputs": [
        {
          "output_type": "stream",
          "name": "stdout",
          "text": [
            "I went to RRR movie and rrr\n"
          ]
        }
      ]
    },
    {
      "cell_type": "markdown",
      "source": [
        "## **format strings**"
      ],
      "metadata": {
        "id": "UlNBaHOTNol0"
      }
    },
    {
      "cell_type": "code",
      "source": [
        "age=18\n",
        "txt=\"my age is {}\"\n",
        "print(txt.format(age))\n",
        "quantity = 3\n",
        "itemno = 567\n",
        "price = 49.95\n",
        "myorder = \"I want {} pieces of item {} for {} dollars.\"\n",
        "print(myorder.format(quantity, itemno, price))\n",
        "quantity = 3\n",
        "itemno = 567\n",
        "price = 49.95\n",
        "myorder = \"I want to pay {2} dollars for {0} pieces of item {1}.\"\n",
        "print(myorder.format(quantity, itemno, price))"
      ],
      "metadata": {
        "colab": {
          "base_uri": "https://localhost:8080/"
        },
        "id": "2vKx1QrANxGh",
        "outputId": "b71729c0-948a-420c-c073-3988b05333c2"
      },
      "execution_count": null,
      "outputs": [
        {
          "output_type": "stream",
          "name": "stdout",
          "text": [
            "my age is 18\n",
            "I want 3 pieces of item 567 for 49.95 dollars.\n",
            "I want to pay 49.95 dollars for 3 pieces of item 567.\n"
          ]
        }
      ]
    }
  ]
}