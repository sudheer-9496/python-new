{
  "nbformat": 4,
  "nbformat_minor": 0,
  "metadata": {
    "colab": {
      "name": "Untitled0.ipynb",
      "provenance": [],
      "authorship_tag": "ABX9TyMMzBhKrNb6T3TkRZ0RJ50E",
      "include_colab_link": true
    },
    "kernelspec": {
      "name": "python3",
      "display_name": "Python 3"
    },
    "language_info": {
      "name": "python"
    }
  },
  "cells": [
    {
      "cell_type": "markdown",
      "metadata": {
        "id": "view-in-github",
        "colab_type": "text"
      },
      "source": [
        "<a href=\"https://colab.research.google.com/github/sudheer-9496/python-new/blob/module1/Untitled0.ipynb\" target=\"_parent\"><img src=\"https://colab.research.google.com/assets/colab-badge.svg\" alt=\"Open In Colab\"/></a>"
      ]
    },
    {
      "cell_type": "code",
      "execution_count": null,
      "metadata": {
        "colab": {
          "base_uri": "https://localhost:8080/"
        },
        "id": "g7-tYz85IBLX",
        "outputId": "f4c7919e-b60b-4e8d-ba8d-93c77b740573"
      },
      "outputs": [
        {
          "output_type": "stream",
          "name": "stdout",
          "text": [
            "3587.0\n",
            "<class 'float'>\n"
          ]
        }
      ],
      "source": [
        "a=7154\n",
        "b=20\n",
        "avg=(a+b)/2\n",
        "print(avg)\n",
        "print(type(avg))"
      ]
    },
    {
      "cell_type": "code",
      "source": [
        "a=int(input(\"enter a no\"))\n",
        "b=int(input(\"enter a no\"))\n",
        "avg=(a+b)/2\n",
        "print(avg)\n",
        "print(type(avg))\n"
      ],
      "metadata": {
        "colab": {
          "base_uri": "https://localhost:8080/"
        },
        "id": "tAxK2CPBKGks",
        "outputId": "26d5d5f0-b9ac-4994-a4dc-dbb5dbaf2e89"
      },
      "execution_count": null,
      "outputs": [
        {
          "output_type": "stream",
          "name": "stdout",
          "text": [
            "enter a no20\n",
            "enter a no7154\n",
            "3587.0\n",
            "<class 'float'>\n"
          ]
        }
      ]
    }
  ]
}